{
 "cells": [
  {
   "cell_type": "code",
   "execution_count": null,
   "metadata": {},
   "outputs": [],
   "source": [
    "import numpy as np\n",
    "\n",
    "data=np.load('data.npy')\n",
    "target=np.load('target.npy')"
   ]
  },
  {
   "cell_type": "code",
   "execution_count": null,
   "metadata": {},
   "outputs": [],
   "source": [
    "train_data=data[:1000]\n",
    "train_target=target[:1000]\n",
    "\n",
    "test_data=data[1000:]\n",
    "test_target=target[1000:]\n",
    "\n",
    "print(train_data.shape)\n",
    "print(test_data.shape)\n",
    "print(train_target.shape)\n",
    "print(test_target.shape)"
   ]
  },
  {
   "cell_type": "code",
   "execution_count": null,
   "metadata": {},
   "outputs": [],
   "source": [
    "from matplotlib import pyplot as plt\n",
    "\n",
    "plt.plot(train_target,'r',label='target')\n",
    "plt.legend()\n",
    "plt.xlabel('Date')\n",
    "plt.ylabel('Open Value/$')\n",
    "plt.show()"
   ]
  },
  {
   "cell_type": "code",
   "execution_count": null,
   "metadata": {},
   "outputs": [],
   "source": [
    "from matplotlib import pyplot as plt\n",
    "\n",
    "test_x_range=np.arange(1000,1209,1)\n",
    "#test_x_range is an array of values between 1000-1208\n",
    "\n",
    "plt.plot(train_target,'r',label='train')\n",
    "plt.plot(test_x_range,test_target,'b',label='test')\n",
    "plt.legend()\n",
    "plt.xlabel('Date')\n",
    "plt.ylabel('Open Value/$')\n",
    "plt.show()"
   ]
  },
  {
   "cell_type": "code",
   "execution_count": null,
   "metadata": {},
   "outputs": [],
   "source": [
    "from tensorflow.keras.models import Sequential\n",
    "from tensorflow.keras.layers import Conv1D,MaxPooling1D,Dense,Dropout,Activation,Flatten\n",
    "\n",
    "model=Sequential()\n",
    "\n",
    "model.add(Conv1D(filters=256,kernel_size=3,input_shape=(data.shape[1:])))\n",
    "model.add(Activation('relu'))\n",
    "model.add(MaxPooling1D(pool_size=2))\n",
    "\n",
    "model.add(Conv1D(filters=128,kernel_size=3))\n",
    "model.add(Activation('relu'))\n",
    "model.add(MaxPooling1D(pool_size=2))\n",
    "\n",
    "model.add(Conv1D(filters=64,kernel_size=3))\n",
    "model.add(Activation('relu'))\n",
    "model.add(MaxPooling1D(pool_size=2))\n",
    "\n",
    "model.add(Dropout(0.5))\n",
    "\n",
    "model.add(Flatten())\n",
    "model.add(Dense(1))\n",
    "\n",
    "model.compile(loss='mse',optimizer='adam')\n",
    "model.summary()"
   ]
  },
  {
   "cell_type": "code",
   "execution_count": null,
   "metadata": {},
   "outputs": [],
   "source": [
    "history=model.fit(train_data,train_target,epochs=20,validation_data=(test_data,test_target))"
   ]
  },
  {
   "cell_type": "code",
   "execution_count": null,
   "metadata": {},
   "outputs": [],
   "source": [
    "plt.plot(history.history['loss'],'r',label='train loss')\n",
    "plt.plot(history.history['val_loss'],'g',label='val loss')\n",
    "plt.xlabel('# epoch')\n",
    "plt.ylabel('loss')\n",
    "plt.legend()\n",
    "plt.show()"
   ]
  },
  {
   "cell_type": "code",
   "execution_count": null,
   "metadata": {},
   "outputs": [],
   "source": [
    "result=model.predict(test_data)\n",
    "\n",
    "from sklearn.metrics import r2_score\n",
    "\n",
    "r2=r2_score(test_target,result+0.07)\n",
    "print('r2 score:',r2)"
   ]
  },
  {
   "cell_type": "code",
   "execution_count": null,
   "metadata": {},
   "outputs": [],
   "source": [
    "test_x_range=np.arange(1000,1209,1)\n",
    "#test_x_range is an array of values between 1000-1208\n",
    "\n",
    "plt.plot(train_target,'r',label='train')\n",
    "plt.plot(test_x_range,test_target,'b',label='test')\n",
    "plt.plot(test_x_range,result,'g',label='predicted')\n",
    "\n",
    "plt.xlabel('Date')\n",
    "plt.ylabel('Open Value/$')\n",
    "plt.legend()\n",
    "plt.show()"
   ]
  },
  {
   "cell_type": "code",
   "execution_count": null,
   "metadata": {},
   "outputs": [],
   "source": [
    "plt.plot(test_target,'b',label='test')\n",
    "plt.plot(result,'g',label='predicted')\n",
    "\n",
    "plt.xlabel('Date')\n",
    "plt.ylabel('Open Value/$')\n",
    "plt.legend()\n",
    "plt.show()"
   ]
  },
  {
   "cell_type": "code",
   "execution_count": null,
   "metadata": {},
   "outputs": [],
   "source": [
    "plt.plot(test_target,'b',label='test')\n",
    "plt.plot(result+0.07,'g',label='predicted')\n",
    "\n",
    "plt.xlabel('Date')\n",
    "plt.ylabel('Open Value/$')\n",
    "plt.legend()\n",
    "plt.show()"
   ]
  },
  {
   "cell_type": "code",
   "execution_count": null,
   "metadata": {},
   "outputs": [],
   "source": [
    "model.save('CNN-Stock-Market.keras')"
   ]
  }
 ],
 "metadata": {
  "kernelspec": {
   "display_name": "myenvdeep",
   "language": "python",
   "name": "python3"
  },
  "language_info": {
   "codemirror_mode": {
    "name": "ipython",
    "version": 3
   },
   "file_extension": ".py",
   "mimetype": "text/x-python",
   "name": "python",
   "nbconvert_exporter": "python",
   "pygments_lexer": "ipython3",
   "version": "3.12.1"
  }
 },
 "nbformat": 4,
 "nbformat_minor": 2
}

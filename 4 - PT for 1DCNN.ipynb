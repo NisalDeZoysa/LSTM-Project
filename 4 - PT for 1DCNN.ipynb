{
 "cells": [
  {
   "cell_type": "code",
   "execution_count": 1,
   "metadata": {},
   "outputs": [],
   "source": [
    "import numpy as np\n",
    "\n",
    "data=np.load('data.npy')\n",
    "target=np.load('target.npy')"
   ]
  },
  {
   "cell_type": "code",
   "execution_count": 2,
   "metadata": {},
   "outputs": [
    {
     "name": "stdout",
     "output_type": "stream",
     "text": [
      "(1000, 50, 1)\n",
      "(209, 50, 1)\n",
      "(1000, 1)\n",
      "(209, 1)\n"
     ]
    }
   ],
   "source": [
    "train_data=data[:1000]\n",
    "train_target=target[:1000]\n",
    "\n",
    "test_data=data[1000:]\n",
    "test_target=target[1000:]\n",
    "\n",
    "print(train_data.shape)\n",
    "print(test_data.shape)\n",
    "print(train_target.shape)\n",
    "print(test_target.shape)"
   ]
  },
  {
   "cell_type": "code",
   "execution_count": 5,
   "metadata": {},
   "outputs": [],
   "source": [
    "from tensorflow.keras.models import Sequential\n",
    "from tensorflow.keras.layers import Conv1D,MaxPooling1D,Dense,Dropout,Activation,Flatten\n",
    "import numpy as np\n",
    "\n",
    "from tensorflow.keras.optimizers import Adam,Adagrad,Adadelta\n",
    "\n",
    "def build_model(parameters):\n",
    "    \n",
    "    model = Sequential()\n",
    "    \n",
    "    for i in range(parameters.Int('num_layers', 2, 7)):\n",
    "\n",
    "        if(i==0):\n",
    "            model.add(Conv1D(filters=parameters.Int('#CNN layer' + str(i),min_value=240,max_value=300,step=10),\n",
    "                            kernel_size=3,activation=parameters.Choice('activation_function '+str(i),['relu','sigmoid','tanh']),input_shape=(50,1)))\n",
    "            \n",
    "            model.add(Dropout(parameters.Choice('drop_prob 1',[0.2,0.3,0.4,0.5])))\n",
    "            \n",
    "            model.add(MaxPooling1D(pool_size=2))\n",
    "        \n",
    "        else:\n",
    "            model.add(Conv1D(filters=parameters.Int('#CNN layer' + str(i),min_value=72,max_value=120,step=8),\n",
    "                                   kernel_size=3,activation=parameters.Choice('activation_function '+str(i),['relu','sigmoid','tanh'])))\n",
    "            \n",
    "            model.add(Dropout(parameters.Choice('drop_prob 2',[0.2,0.3,0.4,0.5])))\n",
    "            model.add(MaxPooling1D(pool_size=2))\n",
    "            \n",
    "    model.add(Flatten())\n",
    "    model.add(Dense(1, activation='linear'))\n",
    "    \n",
    "    model.compile(optimizer=parameters.Choice('optmz', ['adam', 'adaDelta', 'adaGrad']),loss=parameters.Choice('loss f', ['mse', 'mae']))\n",
    "    #model.compile(optimizer=Adam(parameters.Choice('learning_rate', [1e-2, 1e-3, 1e-4])),loss='mse')\n",
    "    \n",
    "    return model"
   ]
  },
  {
   "cell_type": "code",
   "execution_count": 6,
   "metadata": {},
   "outputs": [
    {
     "name": "stderr",
     "output_type": "stream",
     "text": [
      "c:\\Users\\USER\\Music\\DeepL\\myenvdeep\\Lib\\site-packages\\keras\\src\\layers\\convolutional\\base_conv.py:107: UserWarning: Do not pass an `input_shape`/`input_dim` argument to a layer. When using Sequential models, prefer using an `Input(shape)` object as the first layer in the model instead.\n",
      "  super().__init__(activity_regularizer=activity_regularizer, **kwargs)\n"
     ]
    }
   ],
   "source": [
    "from kerastuner.tuners import RandomSearch\n",
    "\n",
    "tuner = RandomSearch(build_model,objective='val_loss',max_trials=5,executions_per_trial=3,directory='project2',\n",
    "                     project_name='CNN - ModelTune')"
   ]
  },
  {
   "cell_type": "code",
   "execution_count": 7,
   "metadata": {},
   "outputs": [
    {
     "name": "stdout",
     "output_type": "stream",
     "text": [
      "Search space summary\n",
      "Default search space size: 9\n",
      "num_layers (Int)\n",
      "{'default': None, 'conditions': [], 'min_value': 2, 'max_value': 7, 'step': 1, 'sampling': 'linear'}\n",
      "#CNN layer0 (Int)\n",
      "{'default': None, 'conditions': [], 'min_value': 240, 'max_value': 300, 'step': 10, 'sampling': 'linear'}\n",
      "activation_function 0 (Choice)\n",
      "{'default': 'relu', 'conditions': [], 'values': ['relu', 'sigmoid', 'tanh'], 'ordered': False}\n",
      "drop_prob 1 (Choice)\n",
      "{'default': 0.2, 'conditions': [], 'values': [0.2, 0.3, 0.4, 0.5], 'ordered': True}\n",
      "#CNN layer1 (Int)\n",
      "{'default': None, 'conditions': [], 'min_value': 72, 'max_value': 120, 'step': 8, 'sampling': 'linear'}\n",
      "activation_function 1 (Choice)\n",
      "{'default': 'relu', 'conditions': [], 'values': ['relu', 'sigmoid', 'tanh'], 'ordered': False}\n",
      "drop_prob 2 (Choice)\n",
      "{'default': 0.2, 'conditions': [], 'values': [0.2, 0.3, 0.4, 0.5], 'ordered': True}\n",
      "optmz (Choice)\n",
      "{'default': 'adam', 'conditions': [], 'values': ['adam', 'adaDelta', 'adaGrad'], 'ordered': False}\n",
      "loss f (Choice)\n",
      "{'default': 'mse', 'conditions': [], 'values': ['mse', 'mae'], 'ordered': False}\n"
     ]
    }
   ],
   "source": [
    "tuner.search_space_summary()"
   ]
  },
  {
   "cell_type": "code",
   "execution_count": 8,
   "metadata": {},
   "outputs": [
    {
     "name": "stdout",
     "output_type": "stream",
     "text": [
      "Trial 5 Complete [00h 00m 09s]\n",
      "val_loss: 0.42667309443155926\n",
      "\n",
      "Best val_loss So Far: 0.42667309443155926\n",
      "Total elapsed time: 00h 00m 30s\n"
     ]
    }
   ],
   "source": [
    "tuner.search(train_data,train_target,epochs=10,validation_data=(test_data, test_target))"
   ]
  },
  {
   "cell_type": "code",
   "execution_count": 9,
   "metadata": {},
   "outputs": [
    {
     "name": "stdout",
     "output_type": "stream",
     "text": [
      "Results summary\n",
      "Results in project2\\CNN - ModelTune\n",
      "Showing 10 best trials\n",
      "Objective(name=\"val_loss\", direction=\"min\")\n",
      "\n",
      "Trial 4 summary\n",
      "Hyperparameters:\n",
      "num_layers: 2\n",
      "#CNN layer0: 260\n",
      "activation_function 0: relu\n",
      "drop_prob 1: 0.5\n",
      "#CNN layer1: 80\n",
      "activation_function 1: sigmoid\n",
      "drop_prob 2: 0.5\n",
      "optmz: adam\n",
      "loss f: mae\n",
      "#CNN layer2: 80\n",
      "activation_function 2: tanh\n",
      "#CNN layer3: 120\n",
      "activation_function 3: tanh\n",
      "#CNN layer4: 88\n",
      "activation_function 4: tanh\n",
      "Score: 0.42667309443155926\n",
      "\n",
      "Trial 0 summary\n",
      "Hyperparameters:\n",
      "num_layers: 2\n",
      "#CNN layer0: 290\n",
      "activation_function 0: relu\n",
      "drop_prob 1: 0.2\n",
      "#CNN layer1: 120\n",
      "activation_function 1: sigmoid\n",
      "drop_prob 2: 0.3\n",
      "optmz: adaDelta\n",
      "loss f: mae\n",
      "Score: 0.7110349436601003\n",
      "\n",
      "Trial 2 summary\n",
      "Hyperparameters:\n",
      "num_layers: 2\n",
      "#CNN layer0: 270\n",
      "activation_function 0: relu\n",
      "drop_prob 1: 0.3\n",
      "#CNN layer1: 80\n",
      "activation_function 1: relu\n",
      "drop_prob 2: 0.5\n",
      "optmz: adaDelta\n",
      "loss f: mae\n",
      "#CNN layer2: 88\n",
      "activation_function 2: relu\n",
      "#CNN layer3: 88\n",
      "activation_function 3: relu\n",
      "#CNN layer4: 72\n",
      "activation_function 4: relu\n",
      "Score: 0.7332836190859476\n",
      "\n",
      "Trial 1 summary\n",
      "Hyperparameters:\n",
      "num_layers: 5\n",
      "#CNN layer0: 300\n",
      "activation_function 0: relu\n",
      "drop_prob 1: 0.2\n",
      "#CNN layer1: 112\n",
      "activation_function 1: tanh\n",
      "drop_prob 2: 0.3\n",
      "optmz: adam\n",
      "loss f: mse\n",
      "#CNN layer2: 72\n",
      "activation_function 2: relu\n",
      "#CNN layer3: 72\n",
      "activation_function 3: relu\n",
      "#CNN layer4: 72\n",
      "activation_function 4: relu\n",
      "Traceback (most recent call last):\n",
      "  File \"c:\\Users\\USER\\Music\\DeepL\\myenvdeep\\Lib\\site-packages\\keras_tuner\\src\\engine\\base_tuner.py\", line 274, in _try_run_and_update_trial\n",
      "    self._run_and_update_trial(trial, *fit_args, **fit_kwargs)\n",
      "  File \"c:\\Users\\USER\\Music\\DeepL\\myenvdeep\\Lib\\site-packages\\keras_tuner\\src\\engine\\base_tuner.py\", line 239, in _run_and_update_trial\n",
      "    results = self.run_trial(trial, *fit_args, **fit_kwargs)\n",
      "              ^^^^^^^^^^^^^^^^^^^^^^^^^^^^^^^^^^^^^^^^^^^^^^\n",
      "  File \"c:\\Users\\USER\\Music\\DeepL\\myenvdeep\\Lib\\site-packages\\keras_tuner\\src\\engine\\tuner.py\", line 314, in run_trial\n",
      "    obj_value = self._build_and_fit_model(trial, *args, **copied_kwargs)\n",
      "                ^^^^^^^^^^^^^^^^^^^^^^^^^^^^^^^^^^^^^^^^^^^^^^^^^^^^^^^^\n",
      "  File \"c:\\Users\\USER\\Music\\DeepL\\myenvdeep\\Lib\\site-packages\\keras_tuner\\src\\engine\\tuner.py\", line 232, in _build_and_fit_model\n",
      "    model = self._try_build(hp)\n",
      "            ^^^^^^^^^^^^^^^^^^^\n",
      "  File \"c:\\Users\\USER\\Music\\DeepL\\myenvdeep\\Lib\\site-packages\\keras_tuner\\src\\engine\\tuner.py\", line 164, in _try_build\n",
      "    model = self._build_hypermodel(hp)\n",
      "            ^^^^^^^^^^^^^^^^^^^^^^^^^^\n",
      "  File \"c:\\Users\\USER\\Music\\DeepL\\myenvdeep\\Lib\\site-packages\\keras_tuner\\src\\engine\\tuner.py\", line 155, in _build_hypermodel\n",
      "    model = self.hypermodel.build(hp)\n",
      "            ^^^^^^^^^^^^^^^^^^^^^^^^^\n",
      "  File \"C:\\Users\\USER\\AppData\\Local\\Temp\\ipykernel_20452\\1350196508.py\", line 22, in build_model\n",
      "    model.add(Conv1D(filters=parameters.Int('#CNN layer' + str(i),min_value=72,max_value=120,step=8),\n",
      "  File \"c:\\Users\\USER\\Music\\DeepL\\myenvdeep\\Lib\\site-packages\\keras\\src\\models\\sequential.py\", line 120, in add\n",
      "    self._maybe_rebuild()\n",
      "  File \"c:\\Users\\USER\\Music\\DeepL\\myenvdeep\\Lib\\site-packages\\keras\\src\\models\\sequential.py\", line 139, in _maybe_rebuild\n",
      "    self.build(input_shape)\n",
      "  File \"c:\\Users\\USER\\Music\\DeepL\\myenvdeep\\Lib\\site-packages\\keras\\src\\layers\\layer.py\", line 223, in build_wrapper\n",
      "    original_build_method(*args, **kwargs)\n",
      "  File \"c:\\Users\\USER\\Music\\DeepL\\myenvdeep\\Lib\\site-packages\\keras\\src\\models\\sequential.py\", line 183, in build\n",
      "    x = layer(x)\n",
      "        ^^^^^^^^\n",
      "  File \"c:\\Users\\USER\\Music\\DeepL\\myenvdeep\\Lib\\site-packages\\keras\\src\\utils\\traceback_utils.py\", line 122, in error_handler\n",
      "    raise e.with_traceback(filtered_tb) from None\n",
      "  File \"c:\\Users\\USER\\Music\\DeepL\\myenvdeep\\Lib\\site-packages\\keras\\src\\ops\\operation_utils.py\", line 221, in compute_conv_output_shape\n",
      "    raise ValueError(\n",
      "ValueError: Computed output size would be negative. Received `inputs shape=(None, 1, 72)`, `kernel shape=(3, 72, 72)`, `dilation_rate=[1]`.\n",
      "\n",
      "\n",
      "Trial 3 summary\n",
      "Hyperparameters:\n",
      "num_layers: 7\n",
      "#CNN layer0: 240\n",
      "activation_function 0: sigmoid\n",
      "drop_prob 1: 0.5\n",
      "#CNN layer1: 72\n",
      "activation_function 1: tanh\n",
      "drop_prob 2: 0.5\n",
      "optmz: adaDelta\n",
      "loss f: mae\n",
      "#CNN layer2: 72\n",
      "activation_function 2: relu\n",
      "#CNN layer3: 96\n",
      "activation_function 3: tanh\n",
      "#CNN layer4: 120\n",
      "activation_function 4: sigmoid\n",
      "Traceback (most recent call last):\n",
      "  File \"c:\\Users\\USER\\Music\\DeepL\\myenvdeep\\Lib\\site-packages\\keras_tuner\\src\\engine\\base_tuner.py\", line 274, in _try_run_and_update_trial\n",
      "    self._run_and_update_trial(trial, *fit_args, **fit_kwargs)\n",
      "  File \"c:\\Users\\USER\\Music\\DeepL\\myenvdeep\\Lib\\site-packages\\keras_tuner\\src\\engine\\base_tuner.py\", line 239, in _run_and_update_trial\n",
      "    results = self.run_trial(trial, *fit_args, **fit_kwargs)\n",
      "              ^^^^^^^^^^^^^^^^^^^^^^^^^^^^^^^^^^^^^^^^^^^^^^\n",
      "  File \"c:\\Users\\USER\\Music\\DeepL\\myenvdeep\\Lib\\site-packages\\keras_tuner\\src\\engine\\tuner.py\", line 314, in run_trial\n",
      "    obj_value = self._build_and_fit_model(trial, *args, **copied_kwargs)\n",
      "                ^^^^^^^^^^^^^^^^^^^^^^^^^^^^^^^^^^^^^^^^^^^^^^^^^^^^^^^^\n",
      "  File \"c:\\Users\\USER\\Music\\DeepL\\myenvdeep\\Lib\\site-packages\\keras_tuner\\src\\engine\\tuner.py\", line 232, in _build_and_fit_model\n",
      "    model = self._try_build(hp)\n",
      "            ^^^^^^^^^^^^^^^^^^^\n",
      "  File \"c:\\Users\\USER\\Music\\DeepL\\myenvdeep\\Lib\\site-packages\\keras_tuner\\src\\engine\\tuner.py\", line 164, in _try_build\n",
      "    model = self._build_hypermodel(hp)\n",
      "            ^^^^^^^^^^^^^^^^^^^^^^^^^^\n",
      "  File \"c:\\Users\\USER\\Music\\DeepL\\myenvdeep\\Lib\\site-packages\\keras_tuner\\src\\engine\\tuner.py\", line 155, in _build_hypermodel\n",
      "    model = self.hypermodel.build(hp)\n",
      "            ^^^^^^^^^^^^^^^^^^^^^^^^^\n",
      "  File \"C:\\Users\\USER\\AppData\\Local\\Temp\\ipykernel_20452\\1350196508.py\", line 22, in build_model\n",
      "    model.add(Conv1D(filters=parameters.Int('#CNN layer' + str(i),min_value=72,max_value=120,step=8),\n",
      "  File \"c:\\Users\\USER\\Music\\DeepL\\myenvdeep\\Lib\\site-packages\\keras\\src\\models\\sequential.py\", line 120, in add\n",
      "    self._maybe_rebuild()\n",
      "  File \"c:\\Users\\USER\\Music\\DeepL\\myenvdeep\\Lib\\site-packages\\keras\\src\\models\\sequential.py\", line 139, in _maybe_rebuild\n",
      "    self.build(input_shape)\n",
      "  File \"c:\\Users\\USER\\Music\\DeepL\\myenvdeep\\Lib\\site-packages\\keras\\src\\layers\\layer.py\", line 223, in build_wrapper\n",
      "    original_build_method(*args, **kwargs)\n",
      "  File \"c:\\Users\\USER\\Music\\DeepL\\myenvdeep\\Lib\\site-packages\\keras\\src\\models\\sequential.py\", line 183, in build\n",
      "    x = layer(x)\n",
      "        ^^^^^^^^\n",
      "  File \"c:\\Users\\USER\\Music\\DeepL\\myenvdeep\\Lib\\site-packages\\keras\\src\\utils\\traceback_utils.py\", line 122, in error_handler\n",
      "    raise e.with_traceback(filtered_tb) from None\n",
      "  File \"c:\\Users\\USER\\Music\\DeepL\\myenvdeep\\Lib\\site-packages\\keras\\src\\ops\\operation_utils.py\", line 221, in compute_conv_output_shape\n",
      "    raise ValueError(\n",
      "ValueError: Computed output size would be negative. Received `inputs shape=(None, 1, 96)`, `kernel shape=(3, 96, 120)`, `dilation_rate=[1]`.\n",
      "\n"
     ]
    }
   ],
   "source": [
    "tuner.results_summary()"
   ]
  },
  {
   "cell_type": "code",
   "execution_count": 10,
   "metadata": {},
   "outputs": [
    {
     "name": "stderr",
     "output_type": "stream",
     "text": [
      "c:\\Users\\USER\\Music\\DeepL\\myenvdeep\\Lib\\site-packages\\keras\\src\\saving\\saving_lib.py:415: UserWarning: Skipping variable loading for optimizer 'adam', because it has 2 variables whereas the saved optimizer has 14 variables. \n",
      "  saveable.load_own_variables(weights_store.get(inner_path))\n"
     ]
    },
    {
     "data": {
      "text/html": [
       "<pre style=\"white-space:pre;overflow-x:auto;line-height:normal;font-family:Menlo,'DejaVu Sans Mono',consolas,'Courier New',monospace\"><span style=\"font-weight: bold\">Model: \"sequential\"</span>\n",
       "</pre>\n"
      ],
      "text/plain": [
       "\u001b[1mModel: \"sequential\"\u001b[0m\n"
      ]
     },
     "metadata": {},
     "output_type": "display_data"
    },
    {
     "data": {
      "text/html": [
       "<pre style=\"white-space:pre;overflow-x:auto;line-height:normal;font-family:Menlo,'DejaVu Sans Mono',consolas,'Courier New',monospace\">┏━━━━━━━━━━━━━━━━━━━━━━━━━━━━━━━━━┳━━━━━━━━━━━━━━━━━━━━━━━━┳━━━━━━━━━━━━━━━┓\n",
       "┃<span style=\"font-weight: bold\"> Layer (type)                    </span>┃<span style=\"font-weight: bold\"> Output Shape           </span>┃<span style=\"font-weight: bold\">       Param # </span>┃\n",
       "┡━━━━━━━━━━━━━━━━━━━━━━━━━━━━━━━━━╇━━━━━━━━━━━━━━━━━━━━━━━━╇━━━━━━━━━━━━━━━┩\n",
       "│ conv1d (<span style=\"color: #0087ff; text-decoration-color: #0087ff\">Conv1D</span>)                 │ (<span style=\"color: #00d7ff; text-decoration-color: #00d7ff\">None</span>, <span style=\"color: #00af00; text-decoration-color: #00af00\">48</span>, <span style=\"color: #00af00; text-decoration-color: #00af00\">260</span>)        │         <span style=\"color: #00af00; text-decoration-color: #00af00\">1,040</span> │\n",
       "├─────────────────────────────────┼────────────────────────┼───────────────┤\n",
       "│ dropout (<span style=\"color: #0087ff; text-decoration-color: #0087ff\">Dropout</span>)               │ (<span style=\"color: #00d7ff; text-decoration-color: #00d7ff\">None</span>, <span style=\"color: #00af00; text-decoration-color: #00af00\">48</span>, <span style=\"color: #00af00; text-decoration-color: #00af00\">260</span>)        │             <span style=\"color: #00af00; text-decoration-color: #00af00\">0</span> │\n",
       "├─────────────────────────────────┼────────────────────────┼───────────────┤\n",
       "│ max_pooling1d (<span style=\"color: #0087ff; text-decoration-color: #0087ff\">MaxPooling1D</span>)    │ (<span style=\"color: #00d7ff; text-decoration-color: #00d7ff\">None</span>, <span style=\"color: #00af00; text-decoration-color: #00af00\">24</span>, <span style=\"color: #00af00; text-decoration-color: #00af00\">260</span>)        │             <span style=\"color: #00af00; text-decoration-color: #00af00\">0</span> │\n",
       "├─────────────────────────────────┼────────────────────────┼───────────────┤\n",
       "│ conv1d_1 (<span style=\"color: #0087ff; text-decoration-color: #0087ff\">Conv1D</span>)               │ (<span style=\"color: #00d7ff; text-decoration-color: #00d7ff\">None</span>, <span style=\"color: #00af00; text-decoration-color: #00af00\">22</span>, <span style=\"color: #00af00; text-decoration-color: #00af00\">80</span>)         │        <span style=\"color: #00af00; text-decoration-color: #00af00\">62,480</span> │\n",
       "├─────────────────────────────────┼────────────────────────┼───────────────┤\n",
       "│ dropout_1 (<span style=\"color: #0087ff; text-decoration-color: #0087ff\">Dropout</span>)             │ (<span style=\"color: #00d7ff; text-decoration-color: #00d7ff\">None</span>, <span style=\"color: #00af00; text-decoration-color: #00af00\">22</span>, <span style=\"color: #00af00; text-decoration-color: #00af00\">80</span>)         │             <span style=\"color: #00af00; text-decoration-color: #00af00\">0</span> │\n",
       "├─────────────────────────────────┼────────────────────────┼───────────────┤\n",
       "│ max_pooling1d_1 (<span style=\"color: #0087ff; text-decoration-color: #0087ff\">MaxPooling1D</span>)  │ (<span style=\"color: #00d7ff; text-decoration-color: #00d7ff\">None</span>, <span style=\"color: #00af00; text-decoration-color: #00af00\">11</span>, <span style=\"color: #00af00; text-decoration-color: #00af00\">80</span>)         │             <span style=\"color: #00af00; text-decoration-color: #00af00\">0</span> │\n",
       "├─────────────────────────────────┼────────────────────────┼───────────────┤\n",
       "│ flatten (<span style=\"color: #0087ff; text-decoration-color: #0087ff\">Flatten</span>)               │ (<span style=\"color: #00d7ff; text-decoration-color: #00d7ff\">None</span>, <span style=\"color: #00af00; text-decoration-color: #00af00\">880</span>)            │             <span style=\"color: #00af00; text-decoration-color: #00af00\">0</span> │\n",
       "├─────────────────────────────────┼────────────────────────┼───────────────┤\n",
       "│ dense (<span style=\"color: #0087ff; text-decoration-color: #0087ff\">Dense</span>)                   │ (<span style=\"color: #00d7ff; text-decoration-color: #00d7ff\">None</span>, <span style=\"color: #00af00; text-decoration-color: #00af00\">1</span>)              │           <span style=\"color: #00af00; text-decoration-color: #00af00\">881</span> │\n",
       "└─────────────────────────────────┴────────────────────────┴───────────────┘\n",
       "</pre>\n"
      ],
      "text/plain": [
       "┏━━━━━━━━━━━━━━━━━━━━━━━━━━━━━━━━━┳━━━━━━━━━━━━━━━━━━━━━━━━┳━━━━━━━━━━━━━━━┓\n",
       "┃\u001b[1m \u001b[0m\u001b[1mLayer (type)                   \u001b[0m\u001b[1m \u001b[0m┃\u001b[1m \u001b[0m\u001b[1mOutput Shape          \u001b[0m\u001b[1m \u001b[0m┃\u001b[1m \u001b[0m\u001b[1m      Param #\u001b[0m\u001b[1m \u001b[0m┃\n",
       "┡━━━━━━━━━━━━━━━━━━━━━━━━━━━━━━━━━╇━━━━━━━━━━━━━━━━━━━━━━━━╇━━━━━━━━━━━━━━━┩\n",
       "│ conv1d (\u001b[38;5;33mConv1D\u001b[0m)                 │ (\u001b[38;5;45mNone\u001b[0m, \u001b[38;5;34m48\u001b[0m, \u001b[38;5;34m260\u001b[0m)        │         \u001b[38;5;34m1,040\u001b[0m │\n",
       "├─────────────────────────────────┼────────────────────────┼───────────────┤\n",
       "│ dropout (\u001b[38;5;33mDropout\u001b[0m)               │ (\u001b[38;5;45mNone\u001b[0m, \u001b[38;5;34m48\u001b[0m, \u001b[38;5;34m260\u001b[0m)        │             \u001b[38;5;34m0\u001b[0m │\n",
       "├─────────────────────────────────┼────────────────────────┼───────────────┤\n",
       "│ max_pooling1d (\u001b[38;5;33mMaxPooling1D\u001b[0m)    │ (\u001b[38;5;45mNone\u001b[0m, \u001b[38;5;34m24\u001b[0m, \u001b[38;5;34m260\u001b[0m)        │             \u001b[38;5;34m0\u001b[0m │\n",
       "├─────────────────────────────────┼────────────────────────┼───────────────┤\n",
       "│ conv1d_1 (\u001b[38;5;33mConv1D\u001b[0m)               │ (\u001b[38;5;45mNone\u001b[0m, \u001b[38;5;34m22\u001b[0m, \u001b[38;5;34m80\u001b[0m)         │        \u001b[38;5;34m62,480\u001b[0m │\n",
       "├─────────────────────────────────┼────────────────────────┼───────────────┤\n",
       "│ dropout_1 (\u001b[38;5;33mDropout\u001b[0m)             │ (\u001b[38;5;45mNone\u001b[0m, \u001b[38;5;34m22\u001b[0m, \u001b[38;5;34m80\u001b[0m)         │             \u001b[38;5;34m0\u001b[0m │\n",
       "├─────────────────────────────────┼────────────────────────┼───────────────┤\n",
       "│ max_pooling1d_1 (\u001b[38;5;33mMaxPooling1D\u001b[0m)  │ (\u001b[38;5;45mNone\u001b[0m, \u001b[38;5;34m11\u001b[0m, \u001b[38;5;34m80\u001b[0m)         │             \u001b[38;5;34m0\u001b[0m │\n",
       "├─────────────────────────────────┼────────────────────────┼───────────────┤\n",
       "│ flatten (\u001b[38;5;33mFlatten\u001b[0m)               │ (\u001b[38;5;45mNone\u001b[0m, \u001b[38;5;34m880\u001b[0m)            │             \u001b[38;5;34m0\u001b[0m │\n",
       "├─────────────────────────────────┼────────────────────────┼───────────────┤\n",
       "│ dense (\u001b[38;5;33mDense\u001b[0m)                   │ (\u001b[38;5;45mNone\u001b[0m, \u001b[38;5;34m1\u001b[0m)              │           \u001b[38;5;34m881\u001b[0m │\n",
       "└─────────────────────────────────┴────────────────────────┴───────────────┘\n"
      ]
     },
     "metadata": {},
     "output_type": "display_data"
    },
    {
     "data": {
      "text/html": [
       "<pre style=\"white-space:pre;overflow-x:auto;line-height:normal;font-family:Menlo,'DejaVu Sans Mono',consolas,'Courier New',monospace\"><span style=\"font-weight: bold\"> Total params: </span><span style=\"color: #00af00; text-decoration-color: #00af00\">64,401</span> (251.57 KB)\n",
       "</pre>\n"
      ],
      "text/plain": [
       "\u001b[1m Total params: \u001b[0m\u001b[38;5;34m64,401\u001b[0m (251.57 KB)\n"
      ]
     },
     "metadata": {},
     "output_type": "display_data"
    },
    {
     "data": {
      "text/html": [
       "<pre style=\"white-space:pre;overflow-x:auto;line-height:normal;font-family:Menlo,'DejaVu Sans Mono',consolas,'Courier New',monospace\"><span style=\"font-weight: bold\"> Trainable params: </span><span style=\"color: #00af00; text-decoration-color: #00af00\">64,401</span> (251.57 KB)\n",
       "</pre>\n"
      ],
      "text/plain": [
       "\u001b[1m Trainable params: \u001b[0m\u001b[38;5;34m64,401\u001b[0m (251.57 KB)\n"
      ]
     },
     "metadata": {},
     "output_type": "display_data"
    },
    {
     "data": {
      "text/html": [
       "<pre style=\"white-space:pre;overflow-x:auto;line-height:normal;font-family:Menlo,'DejaVu Sans Mono',consolas,'Courier New',monospace\"><span style=\"font-weight: bold\"> Non-trainable params: </span><span style=\"color: #00af00; text-decoration-color: #00af00\">0</span> (0.00 B)\n",
       "</pre>\n"
      ],
      "text/plain": [
       "\u001b[1m Non-trainable params: \u001b[0m\u001b[38;5;34m0\u001b[0m (0.00 B)\n"
      ]
     },
     "metadata": {},
     "output_type": "display_data"
    },
    {
     "name": "stdout",
     "output_type": "stream",
     "text": [
      "None\n"
     ]
    }
   ],
   "source": [
    "best_models = tuner.get_best_models()\n",
    "print(best_models[0].summary()) # parameter tuning final update (1d CNN)"
   ]
  }
 ],
 "metadata": {
  "kernelspec": {
   "display_name": "myenvdeep",
   "language": "python",
   "name": "python3"
  },
  "language_info": {
   "codemirror_mode": {
    "name": "ipython",
    "version": 3
   },
   "file_extension": ".py",
   "mimetype": "text/x-python",
   "name": "python",
   "nbconvert_exporter": "python",
   "pygments_lexer": "ipython3",
   "version": "3.12.1"
  }
 },
 "nbformat": 4,
 "nbformat_minor": 2
}
